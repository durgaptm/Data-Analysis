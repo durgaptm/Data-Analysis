{
 "cells": [
  {
   "cell_type": "markdown",
   "id": "b95e4425",
   "metadata": {},
   "source": [
    "### Import Libraries"
   ]
  },
  {
   "cell_type": "code",
   "execution_count": 54,
   "id": "3144974e",
   "metadata": {},
   "outputs": [],
   "source": [
    "import pandas as pd\n",
    "import numpy as np\n",
    "import warnings\n",
    "import matplotlib.pyplot as plt\n",
    "%matplotlib inline"
   ]
  },
  {
   "cell_type": "markdown",
   "id": "3541708f",
   "metadata": {},
   "source": [
    "### Loading the Fitness data from the csv file"
   ]
  },
  {
   "cell_type": "code",
   "execution_count": 55,
   "id": "74918add",
   "metadata": {},
   "outputs": [
    {
     "data": {
      "text/html": [
       "<div>\n",
       "<style scoped>\n",
       "    .dataframe tbody tr th:only-of-type {\n",
       "        vertical-align: middle;\n",
       "    }\n",
       "\n",
       "    .dataframe tbody tr th {\n",
       "        vertical-align: top;\n",
       "    }\n",
       "\n",
       "    .dataframe thead th {\n",
       "        text-align: right;\n",
       "    }\n",
       "</style>\n",
       "<table border=\"1\" class=\"dataframe\">\n",
       "  <thead>\n",
       "    <tr style=\"text-align: right;\">\n",
       "      <th></th>\n",
       "      <th>Activity Id</th>\n",
       "      <th>Type</th>\n",
       "      <th>Route Name</th>\n",
       "      <th>Distance (km)</th>\n",
       "      <th>Duration</th>\n",
       "      <th>Average Pace</th>\n",
       "      <th>Average Speed (km/h)</th>\n",
       "      <th>Calories Burned</th>\n",
       "      <th>Climb (m)</th>\n",
       "      <th>Average Heart Rate (bpm)</th>\n",
       "      <th>Friend's Tagged</th>\n",
       "      <th>Notes</th>\n",
       "      <th>GPX File</th>\n",
       "    </tr>\n",
       "    <tr>\n",
       "      <th>Date</th>\n",
       "      <th></th>\n",
       "      <th></th>\n",
       "      <th></th>\n",
       "      <th></th>\n",
       "      <th></th>\n",
       "      <th></th>\n",
       "      <th></th>\n",
       "      <th></th>\n",
       "      <th></th>\n",
       "      <th></th>\n",
       "      <th></th>\n",
       "      <th></th>\n",
       "      <th></th>\n",
       "    </tr>\n",
       "  </thead>\n",
       "  <tbody>\n",
       "    <tr>\n",
       "      <th>2018-11-11 14:05:12</th>\n",
       "      <td>c9627fed-14ac-47a2-bed3-2a2630c63c15</td>\n",
       "      <td>Running</td>\n",
       "      <td>NaN</td>\n",
       "      <td>10.44</td>\n",
       "      <td>58:40</td>\n",
       "      <td>5:37</td>\n",
       "      <td>10.68</td>\n",
       "      <td>774.0</td>\n",
       "      <td>130</td>\n",
       "      <td>159.0</td>\n",
       "      <td>NaN</td>\n",
       "      <td>NaN</td>\n",
       "      <td>2018-11-11-140512.gpx</td>\n",
       "    </tr>\n",
       "    <tr>\n",
       "      <th>2018-11-09 15:02:35</th>\n",
       "      <td>be65818d-a801-4847-a43b-2acdf4dc70e7</td>\n",
       "      <td>Running</td>\n",
       "      <td>NaN</td>\n",
       "      <td>12.84</td>\n",
       "      <td>1:14:12</td>\n",
       "      <td>5:47</td>\n",
       "      <td>10.39</td>\n",
       "      <td>954.0</td>\n",
       "      <td>168</td>\n",
       "      <td>159.0</td>\n",
       "      <td>NaN</td>\n",
       "      <td>NaN</td>\n",
       "      <td>2018-11-09-150235.gpx</td>\n",
       "    </tr>\n",
       "    <tr>\n",
       "      <th>2018-11-04 16:05:00</th>\n",
       "      <td>c09b2f92-f855-497c-b624-c196b3ef036c</td>\n",
       "      <td>Running</td>\n",
       "      <td>NaN</td>\n",
       "      <td>13.01</td>\n",
       "      <td>1:15:16</td>\n",
       "      <td>5:47</td>\n",
       "      <td>10.37</td>\n",
       "      <td>967.0</td>\n",
       "      <td>171</td>\n",
       "      <td>155.0</td>\n",
       "      <td>NaN</td>\n",
       "      <td>NaN</td>\n",
       "      <td>2018-11-04-160500.gpx</td>\n",
       "    </tr>\n",
       "    <tr>\n",
       "      <th>2018-11-01 14:03:58</th>\n",
       "      <td>bc9b612d-3499-43ff-b82a-9b17b71b8a36</td>\n",
       "      <td>Running</td>\n",
       "      <td>NaN</td>\n",
       "      <td>12.98</td>\n",
       "      <td>1:14:25</td>\n",
       "      <td>5:44</td>\n",
       "      <td>10.47</td>\n",
       "      <td>960.0</td>\n",
       "      <td>169</td>\n",
       "      <td>158.0</td>\n",
       "      <td>NaN</td>\n",
       "      <td>NaN</td>\n",
       "      <td>2018-11-01-140358.gpx</td>\n",
       "    </tr>\n",
       "    <tr>\n",
       "      <th>2018-10-27 17:01:36</th>\n",
       "      <td>972567b2-1b0e-437c-9e82-fef8078d6438</td>\n",
       "      <td>Running</td>\n",
       "      <td>NaN</td>\n",
       "      <td>13.02</td>\n",
       "      <td>1:12:50</td>\n",
       "      <td>5:36</td>\n",
       "      <td>10.73</td>\n",
       "      <td>967.0</td>\n",
       "      <td>170</td>\n",
       "      <td>154.0</td>\n",
       "      <td>NaN</td>\n",
       "      <td>NaN</td>\n",
       "      <td>2018-10-27-170136.gpx</td>\n",
       "    </tr>\n",
       "  </tbody>\n",
       "</table>\n",
       "</div>"
      ],
      "text/plain": [
       "                                              Activity Id     Type Route Name  \\\n",
       "Date                                                                            \n",
       "2018-11-11 14:05:12  c9627fed-14ac-47a2-bed3-2a2630c63c15  Running        NaN   \n",
       "2018-11-09 15:02:35  be65818d-a801-4847-a43b-2acdf4dc70e7  Running        NaN   \n",
       "2018-11-04 16:05:00  c09b2f92-f855-497c-b624-c196b3ef036c  Running        NaN   \n",
       "2018-11-01 14:03:58  bc9b612d-3499-43ff-b82a-9b17b71b8a36  Running        NaN   \n",
       "2018-10-27 17:01:36  972567b2-1b0e-437c-9e82-fef8078d6438  Running        NaN   \n",
       "\n",
       "                     Distance (km) Duration Average Pace  \\\n",
       "Date                                                       \n",
       "2018-11-11 14:05:12          10.44    58:40         5:37   \n",
       "2018-11-09 15:02:35          12.84  1:14:12         5:47   \n",
       "2018-11-04 16:05:00          13.01  1:15:16         5:47   \n",
       "2018-11-01 14:03:58          12.98  1:14:25         5:44   \n",
       "2018-10-27 17:01:36          13.02  1:12:50         5:36   \n",
       "\n",
       "                     Average Speed (km/h)  Calories Burned  Climb (m)  \\\n",
       "Date                                                                    \n",
       "2018-11-11 14:05:12                 10.68            774.0        130   \n",
       "2018-11-09 15:02:35                 10.39            954.0        168   \n",
       "2018-11-04 16:05:00                 10.37            967.0        171   \n",
       "2018-11-01 14:03:58                 10.47            960.0        169   \n",
       "2018-10-27 17:01:36                 10.73            967.0        170   \n",
       "\n",
       "                     Average Heart Rate (bpm)  Friend's Tagged Notes  \\\n",
       "Date                                                                   \n",
       "2018-11-11 14:05:12                     159.0              NaN   NaN   \n",
       "2018-11-09 15:02:35                     159.0              NaN   NaN   \n",
       "2018-11-04 16:05:00                     155.0              NaN   NaN   \n",
       "2018-11-01 14:03:58                     158.0              NaN   NaN   \n",
       "2018-10-27 17:01:36                     154.0              NaN   NaN   \n",
       "\n",
       "                                  GPX File  \n",
       "Date                                        \n",
       "2018-11-11 14:05:12  2018-11-11-140512.gpx  \n",
       "2018-11-09 15:02:35  2018-11-09-150235.gpx  \n",
       "2018-11-04 16:05:00  2018-11-04-160500.gpx  \n",
       "2018-11-01 14:03:58  2018-11-01-140358.gpx  \n",
       "2018-10-27 17:01:36  2018-10-27-170136.gpx  "
      ]
     },
     "execution_count": 55,
     "metadata": {},
     "output_type": "execute_result"
    }
   ],
   "source": [
    "fitness=pd.read_csv('Dataset/cardioActivities.csv',parse_dates=True,index_col=0)\n",
    "fitness.head()"
   ]
  },
  {
   "cell_type": "code",
   "execution_count": 56,
   "id": "96fb07c3",
   "metadata": {},
   "outputs": [
    {
     "name": "stdout",
     "output_type": "stream",
     "text": [
      "<class 'pandas.core.frame.DataFrame'>\n",
      "DatetimeIndex: 508 entries, 2018-11-11 14:05:12 to 2012-08-22 18:53:54\n",
      "Data columns (total 13 columns):\n",
      " #   Column                    Non-Null Count  Dtype  \n",
      "---  ------                    --------------  -----  \n",
      " 0   Activity Id               508 non-null    object \n",
      " 1   Type                      508 non-null    object \n",
      " 2   Route Name                1 non-null      object \n",
      " 3   Distance (km)             508 non-null    float64\n",
      " 4   Duration                  508 non-null    object \n",
      " 5   Average Pace              508 non-null    object \n",
      " 6   Average Speed (km/h)      508 non-null    float64\n",
      " 7   Calories Burned           508 non-null    float64\n",
      " 8   Climb (m)                 508 non-null    int64  \n",
      " 9   Average Heart Rate (bpm)  294 non-null    float64\n",
      " 10  Friend's Tagged           0 non-null      float64\n",
      " 11  Notes                     231 non-null    object \n",
      " 12  GPX File                  504 non-null    object \n",
      "dtypes: float64(5), int64(1), object(7)\n",
      "memory usage: 55.6+ KB\n"
     ]
    }
   ],
   "source": [
    "fitness.info()"
   ]
  },
  {
   "cell_type": "code",
   "execution_count": 57,
   "id": "4c58f510",
   "metadata": {},
   "outputs": [
    {
     "data": {
      "text/plain": [
       "Activity Id                 508\n",
       "Type                          4\n",
       "Route Name                    1\n",
       "Distance (km)               363\n",
       "Duration                    458\n",
       "Average Pace                146\n",
       "Average Speed (km/h)        271\n",
       "Calories Burned             406\n",
       "Climb (m)                   218\n",
       "Average Heart Rate (bpm)     49\n",
       "Friend's Tagged               0\n",
       "Notes                         7\n",
       "GPX File                    504\n",
       "dtype: int64"
      ]
     },
     "execution_count": 57,
     "metadata": {},
     "output_type": "execute_result"
    }
   ],
   "source": [
    "fitness.nunique()"
   ]
  },
  {
   "cell_type": "code",
   "execution_count": 58,
   "id": "e711f771",
   "metadata": {},
   "outputs": [
    {
     "data": {
      "text/plain": [
       "Running    459\n",
       "Cycling     29\n",
       "Walking     18\n",
       "Other        2\n",
       "Name: Type, dtype: int64"
      ]
     },
     "execution_count": 58,
     "metadata": {},
     "output_type": "execute_result"
    }
   ],
   "source": [
    "fitness.Type.value_counts()"
   ]
  },
  {
   "cell_type": "markdown",
   "id": "4f410935",
   "metadata": {},
   "source": [
    "### Data Pre-Processing"
   ]
  },
  {
   "cell_type": "markdown",
   "id": "1b6a57dc",
   "metadata": {},
   "source": [
    "#### Columns 'Friend's Tagged', 'Notes','Route Name','GPX File','Activity Id','Calories Burned' can be dropped"
   ]
  },
  {
   "cell_type": "code",
   "execution_count": 59,
   "id": "0600a5e5",
   "metadata": {},
   "outputs": [
    {
     "name": "stdout",
     "output_type": "stream",
     "text": [
      "<class 'pandas.core.frame.DataFrame'>\n",
      "DatetimeIndex: 508 entries, 2018-11-11 14:05:12 to 2012-08-22 18:53:54\n",
      "Data columns (total 7 columns):\n",
      " #   Column                    Non-Null Count  Dtype  \n",
      "---  ------                    --------------  -----  \n",
      " 0   Type                      508 non-null    object \n",
      " 1   Distance (km)             508 non-null    float64\n",
      " 2   Duration                  508 non-null    object \n",
      " 3   Average Pace              508 non-null    object \n",
      " 4   Average Speed (km/h)      508 non-null    float64\n",
      " 5   Climb (m)                 508 non-null    int64  \n",
      " 6   Average Heart Rate (bpm)  294 non-null    float64\n",
      "dtypes: float64(3), int64(1), object(3)\n",
      "memory usage: 31.8+ KB\n"
     ]
    }
   ],
   "source": [
    "columns_to_drop={'Friend\\'s Tagged', 'Notes','Route Name','GPX File','Activity Id','Calories Burned'}\n",
    "fitness=fitness.drop(columns=columns_to_drop,axis=1)\n",
    "fitness.info()"
   ]
  },
  {
   "cell_type": "code",
   "execution_count": 60,
   "id": "0017e29a",
   "metadata": {},
   "outputs": [],
   "source": [
    "run_data=fitness[fitness.Type=='Running']\n",
    "cycle_data=fitness[fitness.Type=='Cycling']\n",
    "walk_data=fitness[fitness.Type=='Walking']"
   ]
  },
  {
   "cell_type": "code",
   "execution_count": 61,
   "id": "e5cc03cf",
   "metadata": {},
   "outputs": [
    {
     "name": "stdout",
     "output_type": "stream",
     "text": [
      "Type                          0\n",
      "Distance (km)                 0\n",
      "Duration                      0\n",
      "Average Pace                  0\n",
      "Average Speed (km/h)          0\n",
      "Climb (m)                     0\n",
      "Average Heart Rate (bpm)    182\n",
      "dtype: int64\n",
      "Type                         0\n",
      "Distance (km)                0\n",
      "Duration                     0\n",
      "Average Pace                 0\n",
      "Average Speed (km/h)         0\n",
      "Climb (m)                    0\n",
      "Average Heart Rate (bpm)    14\n",
      "dtype: int64\n",
      "Type                         0\n",
      "Distance (km)                0\n",
      "Duration                     0\n",
      "Average Pace                 0\n",
      "Average Speed (km/h)         0\n",
      "Climb (m)                    0\n",
      "Average Heart Rate (bpm)    18\n",
      "dtype: int64\n"
     ]
    }
   ],
   "source": [
    "print(run_data.isnull().sum())\n",
    "print(cycle_data.isnull().sum())\n",
    "print(walk_data.isnull().sum())"
   ]
  },
  {
   "cell_type": "markdown",
   "id": "4b485db2",
   "metadata": {},
   "source": [
    "#### Average Heart Rate (bpm) still has null values but it can be replaced by the mean of the Average Heart Rates for each type of activity. For walk, average of run can be provided as it does not have any values"
   ]
  },
  {
   "cell_type": "code",
   "execution_count": 62,
   "id": "61d4beca",
   "metadata": {},
   "outputs": [
    {
     "name": "stdout",
     "output_type": "stream",
     "text": [
      "<class 'pandas.core.frame.DataFrame'>\n",
      "DatetimeIndex: 508 entries, 2018-11-11 14:05:12 to 2012-08-22 18:53:54\n",
      "Data columns (total 7 columns):\n",
      " #   Column                    Non-Null Count  Dtype  \n",
      "---  ------                    --------------  -----  \n",
      " 0   Type                      508 non-null    object \n",
      " 1   Distance (km)             508 non-null    float64\n",
      " 2   Duration                  508 non-null    object \n",
      " 3   Average Pace              508 non-null    object \n",
      " 4   Average Speed (km/h)      508 non-null    float64\n",
      " 5   Climb (m)                 508 non-null    int64  \n",
      " 6   Average Heart Rate (bpm)  294 non-null    float64\n",
      "dtypes: float64(3), int64(1), object(3)\n",
      "memory usage: 31.8+ KB\n"
     ]
    }
   ],
   "source": [
    "fitness.info()"
   ]
  },
  {
   "cell_type": "code",
   "execution_count": 63,
   "id": "5433a24d",
   "metadata": {},
   "outputs": [
    {
     "name": "stderr",
     "output_type": "stream",
     "text": [
      "C:\\Users\\Durga P T M\\anaconda3\\lib\\site-packages\\pandas\\core\\generic.py:6392: SettingWithCopyWarning: \n",
      "A value is trying to be set on a copy of a slice from a DataFrame\n",
      "\n",
      "See the caveats in the documentation: https://pandas.pydata.org/pandas-docs/stable/user_guide/indexing.html#returning-a-view-versus-a-copy\n",
      "  return self._update_inplace(result)\n"
     ]
    }
   ],
   "source": [
    "# Finding average for each type of activity\n",
    "avg_run_hr=fitness[fitness.Type=='Running']['Average Heart Rate (bpm)'].mean()\n",
    "avg_cycle_hr=fitness[fitness.Type=='Cycling']['Average Heart Rate (bpm)'].mean()\n",
    "avg_walk_hr=fitness[fitness.Type=='Walking']['Average Heart Rate (bpm)'].mean()\n",
    "\n",
    "fitness[fitness.Type=='Running']['Average Heart Rate (bpm)'].fillna(int(avg_run_hr),inplace=True)\n",
    "fitness[fitness.Type=='Cycling']['Average Heart Rate (bpm)'].fillna(int(avg_cycle_hr),inplace=True)\n",
    "fitness[fitness.Type=='Walking']['Average Heart Rate (bpm)'].fillna(int(avg_run_hr),inplace=True)"
   ]
  },
  {
   "cell_type": "code",
   "execution_count": 64,
   "id": "19e4b4c8",
   "metadata": {},
   "outputs": [
    {
     "name": "stdout",
     "output_type": "stream",
     "text": [
      "<class 'pandas.core.frame.DataFrame'>\n",
      "DatetimeIndex: 508 entries, 2018-11-11 14:05:12 to 2012-08-22 18:53:54\n",
      "Data columns (total 7 columns):\n",
      " #   Column                    Non-Null Count  Dtype  \n",
      "---  ------                    --------------  -----  \n",
      " 0   Type                      508 non-null    object \n",
      " 1   Distance (km)             508 non-null    float64\n",
      " 2   Duration                  508 non-null    object \n",
      " 3   Average Pace              508 non-null    object \n",
      " 4   Average Speed (km/h)      508 non-null    float64\n",
      " 5   Climb (m)                 508 non-null    int64  \n",
      " 6   Average Heart Rate (bpm)  294 non-null    float64\n",
      "dtypes: float64(3), int64(1), object(3)\n",
      "memory usage: 31.8+ KB\n"
     ]
    }
   ],
   "source": [
    "fitness[fitness.Type=='Running']['Average Heart Rate (bpm)'].fillna(int(avg_run_hr),inplace=True)\n",
    "fitness.info()"
   ]
  },
  {
   "cell_type": "code",
   "execution_count": 13,
   "id": "f8bb0523",
   "metadata": {},
   "outputs": [
    {
     "name": "stderr",
     "output_type": "stream",
     "text": [
      "C:\\Users\\Durga P T M\\anaconda3\\lib\\site-packages\\pandas\\core\\generic.py:6392: SettingWithCopyWarning: \n",
      "A value is trying to be set on a copy of a slice from a DataFrame\n",
      "\n",
      "See the caveats in the documentation: https://pandas.pydata.org/pandas-docs/stable/user_guide/indexing.html#returning-a-view-versus-a-copy\n",
      "  return self._update_inplace(result)\n"
     ]
    }
   ],
   "source": [
    "run_data['Average Heart Rate (bpm)'].fillna(int(avg_run_hr),inplace=True)\n",
    "cycle_data['Average Heart Rate (bpm)'].fillna(int(avg_cycle_hr),inplace=True)\n",
    "walk_data['Average Heart Rate (bpm)'].fillna(int(avg_run_hr),inplace=True)"
   ]
  },
  {
   "cell_type": "markdown",
   "id": "bea1edb0",
   "metadata": {},
   "source": [
    "### Plot Data"
   ]
  },
  {
   "cell_type": "code",
   "execution_count": 11,
   "id": "edb48cdf",
   "metadata": {},
   "outputs": [],
   "source": [
    "# Ignore Warnings\n",
    "plt.style.use('ggplot')\n",
    "warnings.filterwarnings(action='ignore',module='matplotlib.figure',category=UserWarning,\n",
    "                        message=('This fig has axes which are not compatible with tight_layout, so the results might be incorrect'))"
   ]
  },
  {
   "cell_type": "code",
   "execution_count": 12,
   "id": "6fa061cb",
   "metadata": {},
   "outputs": [
    {
     "data": {
      "image/png": "[encoded data removed]",
      "text/plain": [
       "<Figure size 1500x1000 with 4 Axes>"
      ]
     },
     "metadata": {},
     "output_type": "display_data"
    }
   ],
   "source": [
    "fitness.hist(bins=50,figsize=(15,10))\n",
    "plt.show()"
   ]
  },
  {
   "cell_type": "code",
   "execution_count": 18,
   "id": "6861c164",
   "metadata": {},
   "outputs": [
    {
     "name": "stderr",
     "output_type": "stream",
     "text": [
      "C:\\Users\\Durga P T M\\AppData\\Local\\Temp\\ipykernel_12620\\2521331207.py:8: MatplotlibDeprecationWarning: Passing non-integers as three-element position specification is deprecated since 3.3 and will be removed two minor releases later.\n",
      "  plt.subplot(GraphRow,5,i+1)\n",
      "C:\\Users\\Durga P T M\\AppData\\Local\\Temp\\ipykernel_12620\\2521331207.py:8: MatplotlibDeprecationWarning: Passing non-integers as three-element position specification is deprecated since 3.3 and will be removed two minor releases later.\n",
      "  plt.subplot(GraphRow,5,i+1)\n"
     ]
    },
    {
     "data": {
      "image/png": "[encoded data removed]",
      "text/plain": [
       "<Figure size 2400x384 with 2 Axes>"
      ]
     },
     "metadata": {},
     "output_type": "display_data"
    }
   ],
   "source": [
    "nunique=fitness.nunique()\n",
    "fitness=fitness[[col for col in fitness if nunique[col]>1 and nunique[col]<50]]\n",
    "row,col=fitness.shape\n",
    "col_name=list(fitness)\n",
    "GraphRow=(col+5-1)/5\n",
    "plt.figure(num=None,figsize=(6*5,4*GraphRow),dpi=80,facecolor='w',edgecolor='k')\n",
    "for i in range(min(col,10)):\n",
    "    plt.subplot(GraphRow,5,i+1)\n",
    "    col_df=fitness.iloc[:,i]\n",
    "    if(not np.issubdtype(type(col_df.iloc[0]),np.number)):\n",
    "        val_count=col_df.value_counts()\n",
    "        val_count.plot.bar()\n",
    "    else:\n",
    "        col_df.hist()\n",
    "    plt.ylabel('Counts')\n",
    "    plt.xticks(rotation=90)\n",
    "    plt.title(f'{col_name[i]}(column{i})')\n",
    "plt.tight_layout(pad=0.1,w_pad=1.0,h_pad=1.0)\n",
    "plt.show()"
   ]
  },
  {
   "cell_type": "code",
   "execution_count": 20,
   "id": "86a7db2f",
   "metadata": {},
   "outputs": [
    {
     "data": {
      "text/html": [
       "<div>\n",
       "<style scoped>\n",
       "    .dataframe tbody tr th:only-of-type {\n",
       "        vertical-align: middle;\n",
       "    }\n",
       "\n",
       "    .dataframe tbody tr th {\n",
       "        vertical-align: top;\n",
       "    }\n",
       "\n",
       "    .dataframe thead th {\n",
       "        text-align: right;\n",
       "    }\n",
       "</style>\n",
       "<table border=\"1\" class=\"dataframe\">\n",
       "  <thead>\n",
       "    <tr style=\"text-align: right;\">\n",
       "      <th></th>\n",
       "      <th>Type</th>\n",
       "      <th>Average Heart Rate (bpm)</th>\n",
       "    </tr>\n",
       "    <tr>\n",
       "      <th>Date</th>\n",
       "      <th></th>\n",
       "      <th></th>\n",
       "    </tr>\n",
       "  </thead>\n",
       "  <tbody>\n",
       "    <tr>\n",
       "      <th>2018-11-11 14:05:12</th>\n",
       "      <td>Running</td>\n",
       "      <td>159.0</td>\n",
       "    </tr>\n",
       "    <tr>\n",
       "      <th>2018-11-09 15:02:35</th>\n",
       "      <td>Running</td>\n",
       "      <td>159.0</td>\n",
       "    </tr>\n",
       "    <tr>\n",
       "      <th>2018-11-04 16:05:00</th>\n",
       "      <td>Running</td>\n",
       "      <td>155.0</td>\n",
       "    </tr>\n",
       "    <tr>\n",
       "      <th>2018-11-01 14:03:58</th>\n",
       "      <td>Running</td>\n",
       "      <td>158.0</td>\n",
       "    </tr>\n",
       "    <tr>\n",
       "      <th>2018-10-27 17:01:36</th>\n",
       "      <td>Running</td>\n",
       "      <td>154.0</td>\n",
       "    </tr>\n",
       "    <tr>\n",
       "      <th>...</th>\n",
       "      <td>...</td>\n",
       "      <td>...</td>\n",
       "    </tr>\n",
       "    <tr>\n",
       "      <th>2012-08-28 07:06:57</th>\n",
       "      <td>Walking</td>\n",
       "      <td>NaN</td>\n",
       "    </tr>\n",
       "    <tr>\n",
       "      <th>2012-08-24 12:59:42</th>\n",
       "      <td>Walking</td>\n",
       "      <td>NaN</td>\n",
       "    </tr>\n",
       "    <tr>\n",
       "      <th>2012-08-24 10:12:16</th>\n",
       "      <td>Walking</td>\n",
       "      <td>NaN</td>\n",
       "    </tr>\n",
       "    <tr>\n",
       "      <th>2012-08-24 08:13:12</th>\n",
       "      <td>Running</td>\n",
       "      <td>NaN</td>\n",
       "    </tr>\n",
       "    <tr>\n",
       "      <th>2012-08-22 18:53:54</th>\n",
       "      <td>Running</td>\n",
       "      <td>NaN</td>\n",
       "    </tr>\n",
       "  </tbody>\n",
       "</table>\n",
       "<p>508 rows × 2 columns</p>\n",
       "</div>"
      ],
      "text/plain": [
       "                        Type  Average Heart Rate (bpm)\n",
       "Date                                                  \n",
       "2018-11-11 14:05:12  Running                     159.0\n",
       "2018-11-09 15:02:35  Running                     159.0\n",
       "2018-11-04 16:05:00  Running                     155.0\n",
       "2018-11-01 14:03:58  Running                     158.0\n",
       "2018-10-27 17:01:36  Running                     154.0\n",
       "...                      ...                       ...\n",
       "2012-08-28 07:06:57  Walking                       NaN\n",
       "2012-08-24 12:59:42  Walking                       NaN\n",
       "2012-08-24 10:12:16  Walking                       NaN\n",
       "2012-08-24 08:13:12  Running                       NaN\n",
       "2012-08-22 18:53:54  Running                       NaN\n",
       "\n",
       "[508 rows x 2 columns]"
      ]
     },
     "execution_count": 20,
     "metadata": {},
     "output_type": "execute_result"
    }
   ],
   "source": [
    "fitness"
   ]
  },
  {
   "cell_type": "code",
   "execution_count": 23,
   "id": "81f32229",
   "metadata": {},
   "outputs": [
    {
     "data": {
      "image/png": "[encoded data removed]",
      "text/plain": [
       "<Figure size 640x640 with 2 Axes>"
      ]
     },
     "metadata": {},
     "output_type": "display_data"
    }
   ],
   "source": [
    "fitness=fitness[[col for col in fitness if nunique[col]>1]]\n",
    "if fitness.shape[1] < 2:\n",
    "    print(f'No correlation plots shown:The number of constant columns ({fitness.shape[1]}) is less than 2')\n",
    "corr=fitness.corr()\n",
    "plt.figure(num=None,figsize=(8,8),dpi=80,facecolor='w',edgecolor='k')\n",
    "corrmat=plt.matshow(corr,fignum=1)\n",
    "plt.xticks(range(len(corr.columns)),corr.columns,rotation=90)\n",
    "plt.yticks(range(len(corr.columns)),corr.columns)\n",
    "plt.gca().xaxis.tick_bottom()\n",
    "plt.colorbar(corrmat)\n",
    "plt.title('Correlation Matrix for Runkeeper Data',fontsize=15)\n",
    "plt.show()"
   ]
  },
  {
   "cell_type": "code",
   "execution_count": null,
   "id": "dd0395dd",
   "metadata": {},
   "outputs": [],
   "source": []
  }
 ],
 "metadata": {
  "kernelspec": {
   "display_name": "Python 3 (ipykernel)",
   "language": "python",
   "name": "python3"
  },
  "language_info": {
   "codemirror_mode": {
    "name": "ipython",
    "version": 3
   },
   "file_extension": ".py",
   "mimetype": "text/x-python",
   "name": "python",
   "nbconvert_exporter": "python",
   "pygments_lexer": "ipython3",
   "version": "3.9.7"
  }
 },
 "nbformat": 4,
 "nbformat_minor": 5
}
